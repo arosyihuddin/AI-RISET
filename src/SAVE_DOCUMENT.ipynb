{
 "cells": [
  {
   "cell_type": "code",
   "execution_count": 21,
   "metadata": {},
   "outputs": [
    {
     "data": {
      "text/plain": [
       "True"
      ]
     },
     "execution_count": 21,
     "metadata": {},
     "output_type": "execute_result"
    }
   ],
   "source": [
    "from langchain_text_splitters import RecursiveCharacterTextSplitter\n",
    "from langchain_huggingface import HuggingFaceEmbeddings\n",
    "from langchain.schema import Document\n",
    "from langchain.vectorstores import FAISS\n",
    "from dotenv import load_dotenv\n",
    "from langchain_community.document_loaders import PyPDFLoader\n",
    "from uuid import uuid4\n",
    "from langchain_community.docstore.in_memory import InMemoryDocstore\n",
    "import faiss\n",
    "import os\n",
    "load_dotenv()"
   ]
  },
  {
   "cell_type": "code",
   "execution_count": 3,
   "metadata": {},
   "outputs": [],
   "source": [
    "pdf_loader = PyPDFLoader(\"../dataset/RH_Budi_Casual.pdf\")\n",
    "pages = []\n",
    "async for page in pdf_loader.alazy_load():\n",
    "    pages.append(page)"
   ]
  },
  {
   "cell_type": "code",
   "execution_count": 4,
   "metadata": {},
   "outputs": [
    {
     "name": "stdout",
     "output_type": "stream",
     "text": [
      "Terdapat 1 Halaman\n"
     ]
    },
    {
     "data": {
      "text/plain": [
       "[Document(metadata={'source': '../dataset/RH_Budi_Casual.pdf', 'page': 0}, page_content='Nama saya adalah Budi Susanto, saya seorang programmer yang baru lulus dari \\nUniversitas Hang Tuah di Surabaya di tahun 2024. Saya mengambil jurusan Teknik \\ninformatika Bersama 78 teman saya lainnya. Selama kuliah, saya mempelajari banyak hal \\nmengenai pemrograman, algorithma, kompleksitas, eﬁsiensi, kolaboratif, dan lain-lainnya \\nyang sangat menantang bagi saya. Hal ini karena saya baru mempunyai personal computer \\nsaya 5 tahun yang lalu, dan waktu itu computer adalah hal yang benar-benar baru bagi \\nsaya. \\n \\nSaya lahir di Surabaya, dalam keluarga yang kondisi ekonominya kurang baik, bapak saya \\nadalah seorang pedagang asongan yang bekerja keras membanting tulang untuk \\nmemenuhi kebutuhan hidup saya sebagai anak tunggalnya. Ibu saya juga pekerja paruh \\nwaktu di salah satu usaha laundry milik tetangga. Di rumah, kami juga ditemani oleh \\nnenek. Saya sangat dekat dengan nenek saya, karena sebagian besar waktu menghabiskan \\nwaktu Bersama dengan beliau, sambil menunggu kepulangan ayah dan ibu dari tempat \\nkerjanya masing-masing. Saya bersyukur dengan dukungan orang tua, diizinkan untuk \\nmenyelesaikan SD Negeri 5, dilanjutkan SMP Negeri 2 Surabaya. Setelah itu menamatkan \\nSMAN 6 Surabaya di tahun 2020. \\n \\nKondisi sekarang, saya sedang merantau ke kota besar Jakarta untuk mencari pekerjaan, \\ndan mulai merajut tangga karir saya. Saya ingin bekerja di sebuah Perusahaan teknologi \\n(atau Perusahaan perangkat lunak) karena di topik itulah ilmu yang saya tuntut. Saya sudah \\nmelamar ke 17 perusahaan dan sangat bersyukur bahwa dapat mengikuti proses-nya \\ndengan lancer. Dari jumlah tersebut, tersisa hanya 3 perusahaan yang sedang saya tunggu \\nsurat penawarannya karena saya berhasil menyelesaikan interview sampai tahap akhirnya. \\n \\nBesar harapan saya untuk dapat mendapatkan surat penawaran, karena sudah tidak sabar \\ningin saya tunjukkan kepada orang tua bahwa inilah langkah pertama saya di dunia kerja, \\nmungkin hamper mirip dengan langkah kaki saya yang pertama ketika saya masih bayi. \\nSaya akan berjuang sekuat tenaga mencapai cita-cita saya, dengan dukungan moral dari \\norang tua yang jauh di sana. Semoga suatu hari mereka dapat menemaniku di kota \\nmetropolitan nan besar ini. ')]"
      ]
     },
     "execution_count": 4,
     "metadata": {},
     "output_type": "execute_result"
    }
   ],
   "source": [
    "print(f\"Terdapat {len(pages)} Halaman\")\n",
    "pages"
   ]
  },
  {
   "cell_type": "code",
   "execution_count": 5,
   "metadata": {},
   "outputs": [],
   "source": [
    "text_splitter = RecursiveCharacterTextSplitter(\n",
    "    chunk_size=1000,  # Ukuran potongan dalam karakter\n",
    "    chunk_overlap=200  # Jumlah karakter yang tumpang tindih antar potongan\n",
    ")"
   ]
  },
  {
   "cell_type": "code",
   "execution_count": 6,
   "metadata": {},
   "outputs": [],
   "source": [
    "documents = []\n",
    "for page in pages:\n",
    "    split_doc = text_splitter.split_text(page.page_content)\n",
    "    uuid = str(uuid4())\n",
    "    for content in split_doc:\n",
    "        documents.append(Document(metadata={\"parent_id\": uuid, \"source\": page.metadata[\"source\"], \"page\": page.metadata[\"page\"]}, page_content=content))"
   ]
  },
  {
   "cell_type": "code",
   "execution_count": 7,
   "metadata": {},
   "outputs": [],
   "source": [
    "uuids = [str(uuid4()) for _ in documents]"
   ]
  },
  {
   "cell_type": "code",
   "execution_count": 8,
   "metadata": {},
   "outputs": [
    {
     "name": "stdout",
     "output_type": "stream",
     "text": [
      "Banyak Chunk dari 1 Halaman: 3\n"
     ]
    },
    {
     "data": {
      "text/plain": [
       "[Document(metadata={'parent_id': 'c439b32a-9e4e-4805-acef-21a7daa0510e', 'source': '../dataset/RH_Budi_Casual.pdf', 'page': 0}, page_content='Nama saya adalah Budi Susanto, saya seorang programmer yang baru lulus dari \\nUniversitas Hang Tuah di Surabaya di tahun 2024. Saya mengambil jurusan Teknik \\ninformatika Bersama 78 teman saya lainnya. Selama kuliah, saya mempelajari banyak hal \\nmengenai pemrograman, algorithma, kompleksitas, eﬁsiensi, kolaboratif, dan lain-lainnya \\nyang sangat menantang bagi saya. Hal ini karena saya baru mempunyai personal computer \\nsaya 5 tahun yang lalu, dan waktu itu computer adalah hal yang benar-benar baru bagi \\nsaya. \\n \\nSaya lahir di Surabaya, dalam keluarga yang kondisi ekonominya kurang baik, bapak saya \\nadalah seorang pedagang asongan yang bekerja keras membanting tulang untuk \\nmemenuhi kebutuhan hidup saya sebagai anak tunggalnya. Ibu saya juga pekerja paruh \\nwaktu di salah satu usaha laundry milik tetangga. Di rumah, kami juga ditemani oleh \\nnenek. Saya sangat dekat dengan nenek saya, karena sebagian besar waktu menghabiskan'),\n",
       " Document(metadata={'parent_id': 'c439b32a-9e4e-4805-acef-21a7daa0510e', 'source': '../dataset/RH_Budi_Casual.pdf', 'page': 0}, page_content='waktu di salah satu usaha laundry milik tetangga. Di rumah, kami juga ditemani oleh \\nnenek. Saya sangat dekat dengan nenek saya, karena sebagian besar waktu menghabiskan \\nwaktu Bersama dengan beliau, sambil menunggu kepulangan ayah dan ibu dari tempat \\nkerjanya masing-masing. Saya bersyukur dengan dukungan orang tua, diizinkan untuk \\nmenyelesaikan SD Negeri 5, dilanjutkan SMP Negeri 2 Surabaya. Setelah itu menamatkan \\nSMAN 6 Surabaya di tahun 2020. \\n \\nKondisi sekarang, saya sedang merantau ke kota besar Jakarta untuk mencari pekerjaan, \\ndan mulai merajut tangga karir saya. Saya ingin bekerja di sebuah Perusahaan teknologi \\n(atau Perusahaan perangkat lunak) karena di topik itulah ilmu yang saya tuntut. Saya sudah \\nmelamar ke 17 perusahaan dan sangat bersyukur bahwa dapat mengikuti proses-nya \\ndengan lancer. Dari jumlah tersebut, tersisa hanya 3 perusahaan yang sedang saya tunggu \\nsurat penawarannya karena saya berhasil menyelesaikan interview sampai tahap akhirnya.'),\n",
       " Document(metadata={'parent_id': 'c439b32a-9e4e-4805-acef-21a7daa0510e', 'source': '../dataset/RH_Budi_Casual.pdf', 'page': 0}, page_content='dengan lancer. Dari jumlah tersebut, tersisa hanya 3 perusahaan yang sedang saya tunggu \\nsurat penawarannya karena saya berhasil menyelesaikan interview sampai tahap akhirnya. \\n \\nBesar harapan saya untuk dapat mendapatkan surat penawaran, karena sudah tidak sabar \\ningin saya tunjukkan kepada orang tua bahwa inilah langkah pertama saya di dunia kerja, \\nmungkin hamper mirip dengan langkah kaki saya yang pertama ketika saya masih bayi. \\nSaya akan berjuang sekuat tenaga mencapai cita-cita saya, dengan dukungan moral dari \\norang tua yang jauh di sana. Semoga suatu hari mereka dapat menemaniku di kota \\nmetropolitan nan besar ini.')]"
      ]
     },
     "execution_count": 8,
     "metadata": {},
     "output_type": "execute_result"
    }
   ],
   "source": [
    "print(f\"Banyak Chunk dari {len(pages)} Halaman: {len(documents)}\")\n",
    "documents"
   ]
  },
  {
   "cell_type": "code",
   "execution_count": 41,
   "metadata": {},
   "outputs": [],
   "source": [
    "# embeddings =  HuggingFaceEmbeddings(\n",
    "#         model_name=\"intfloat/multilingual-e5-large\",     # Provide the pre-trained model's path\n",
    "#         model_kwargs={'device':'cpu'}, # Pass the model configuration options\n",
    "#         encode_kwargs={'normalize_embeddings': False}, # Pass the encoding options\n",
    "#         show_progress=True\n",
    "#     )\n",
    "embeddings =  HuggingFaceEmbeddings(\n",
    "        model_name=\"sentence-transformers/distiluse-base-multilingual-cased-v2\",     # Provide the pre-trained model's path\n",
    "        model_kwargs={'device':'cpu'}, # Pass the model configuration options\n",
    "        encode_kwargs={'normalize_embeddings': False}, # Pass the encoding options\n",
    "        show_progress=True\n",
    "    )"
   ]
  },
  {
   "cell_type": "code",
   "execution_count": 10,
   "metadata": {},
   "outputs": [
    {
     "name": "stderr",
     "output_type": "stream",
     "text": [
      "Batches: 100%|██████████| 1/1 [00:00<00:00,  3.42it/s]\n"
     ]
    }
   ],
   "source": [
    "db = FAISS.from_documents(documents=documents, embedding=embeddings, ids=uuids)"
   ]
  },
  {
   "cell_type": "code",
   "execution_count": 11,
   "metadata": {},
   "outputs": [
    {
     "data": {
      "text/plain": [
       "{'fd1214ca-758f-4dec-9904-3a720a14a2d9': Document(id='fd1214ca-758f-4dec-9904-3a720a14a2d9', metadata={'parent_id': 'c439b32a-9e4e-4805-acef-21a7daa0510e', 'source': '../dataset/RH_Budi_Casual.pdf', 'page': 0}, page_content='Nama saya adalah Budi Susanto, saya seorang programmer yang baru lulus dari \\nUniversitas Hang Tuah di Surabaya di tahun 2024. Saya mengambil jurusan Teknik \\ninformatika Bersama 78 teman saya lainnya. Selama kuliah, saya mempelajari banyak hal \\nmengenai pemrograman, algorithma, kompleksitas, eﬁsiensi, kolaboratif, dan lain-lainnya \\nyang sangat menantang bagi saya. Hal ini karena saya baru mempunyai personal computer \\nsaya 5 tahun yang lalu, dan waktu itu computer adalah hal yang benar-benar baru bagi \\nsaya. \\n \\nSaya lahir di Surabaya, dalam keluarga yang kondisi ekonominya kurang baik, bapak saya \\nadalah seorang pedagang asongan yang bekerja keras membanting tulang untuk \\nmemenuhi kebutuhan hidup saya sebagai anak tunggalnya. Ibu saya juga pekerja paruh \\nwaktu di salah satu usaha laundry milik tetangga. Di rumah, kami juga ditemani oleh \\nnenek. Saya sangat dekat dengan nenek saya, karena sebagian besar waktu menghabiskan'),\n",
       " '50c7113f-ff6d-4c59-8be2-93152e7d970e': Document(id='50c7113f-ff6d-4c59-8be2-93152e7d970e', metadata={'parent_id': 'c439b32a-9e4e-4805-acef-21a7daa0510e', 'source': '../dataset/RH_Budi_Casual.pdf', 'page': 0}, page_content='waktu di salah satu usaha laundry milik tetangga. Di rumah, kami juga ditemani oleh \\nnenek. Saya sangat dekat dengan nenek saya, karena sebagian besar waktu menghabiskan \\nwaktu Bersama dengan beliau, sambil menunggu kepulangan ayah dan ibu dari tempat \\nkerjanya masing-masing. Saya bersyukur dengan dukungan orang tua, diizinkan untuk \\nmenyelesaikan SD Negeri 5, dilanjutkan SMP Negeri 2 Surabaya. Setelah itu menamatkan \\nSMAN 6 Surabaya di tahun 2020. \\n \\nKondisi sekarang, saya sedang merantau ke kota besar Jakarta untuk mencari pekerjaan, \\ndan mulai merajut tangga karir saya. Saya ingin bekerja di sebuah Perusahaan teknologi \\n(atau Perusahaan perangkat lunak) karena di topik itulah ilmu yang saya tuntut. Saya sudah \\nmelamar ke 17 perusahaan dan sangat bersyukur bahwa dapat mengikuti proses-nya \\ndengan lancer. Dari jumlah tersebut, tersisa hanya 3 perusahaan yang sedang saya tunggu \\nsurat penawarannya karena saya berhasil menyelesaikan interview sampai tahap akhirnya.'),\n",
       " '1c561940-8181-47a9-9a7c-6cb3a83cf3e4': Document(id='1c561940-8181-47a9-9a7c-6cb3a83cf3e4', metadata={'parent_id': 'c439b32a-9e4e-4805-acef-21a7daa0510e', 'source': '../dataset/RH_Budi_Casual.pdf', 'page': 0}, page_content='dengan lancer. Dari jumlah tersebut, tersisa hanya 3 perusahaan yang sedang saya tunggu \\nsurat penawarannya karena saya berhasil menyelesaikan interview sampai tahap akhirnya. \\n \\nBesar harapan saya untuk dapat mendapatkan surat penawaran, karena sudah tidak sabar \\ningin saya tunjukkan kepada orang tua bahwa inilah langkah pertama saya di dunia kerja, \\nmungkin hamper mirip dengan langkah kaki saya yang pertama ketika saya masih bayi. \\nSaya akan berjuang sekuat tenaga mencapai cita-cita saya, dengan dukungan moral dari \\norang tua yang jauh di sana. Semoga suatu hari mereka dapat menemaniku di kota \\nmetropolitan nan besar ini.')}"
      ]
     },
     "execution_count": 11,
     "metadata": {},
     "output_type": "execute_result"
    }
   ],
   "source": [
    "db.docstore._dict"
   ]
  },
  {
   "cell_type": "code",
   "execution_count": 17,
   "metadata": {},
   "outputs": [
    {
     "name": "stderr",
     "output_type": "stream",
     "text": [
      "Batches: 100%|██████████| 1/1 [00:00<00:00, 31.31it/s]\n"
     ]
    },
    {
     "data": {
      "text/plain": [
       "[Document(id='fd1214ca-758f-4dec-9904-3a720a14a2d9', metadata={'parent_id': 'c439b32a-9e4e-4805-acef-21a7daa0510e', 'source': '../dataset/RH_Budi_Casual.pdf', 'page': 0}, page_content='Nama saya adalah Budi Susanto, saya seorang programmer yang baru lulus dari \\nUniversitas Hang Tuah di Surabaya di tahun 2024. Saya mengambil jurusan Teknik \\ninformatika Bersama 78 teman saya lainnya. Selama kuliah, saya mempelajari banyak hal \\nmengenai pemrograman, algorithma, kompleksitas, eﬁsiensi, kolaboratif, dan lain-lainnya \\nyang sangat menantang bagi saya. Hal ini karena saya baru mempunyai personal computer \\nsaya 5 tahun yang lalu, dan waktu itu computer adalah hal yang benar-benar baru bagi \\nsaya. \\n \\nSaya lahir di Surabaya, dalam keluarga yang kondisi ekonominya kurang baik, bapak saya \\nadalah seorang pedagang asongan yang bekerja keras membanting tulang untuk \\nmemenuhi kebutuhan hidup saya sebagai anak tunggalnya. Ibu saya juga pekerja paruh \\nwaktu di salah satu usaha laundry milik tetangga. Di rumah, kami juga ditemani oleh \\nnenek. Saya sangat dekat dengan nenek saya, karena sebagian besar waktu menghabiskan'),\n",
       " Document(id='1c561940-8181-47a9-9a7c-6cb3a83cf3e4', metadata={'parent_id': 'c439b32a-9e4e-4805-acef-21a7daa0510e', 'source': '../dataset/RH_Budi_Casual.pdf', 'page': 0}, page_content='dengan lancer. Dari jumlah tersebut, tersisa hanya 3 perusahaan yang sedang saya tunggu \\nsurat penawarannya karena saya berhasil menyelesaikan interview sampai tahap akhirnya. \\n \\nBesar harapan saya untuk dapat mendapatkan surat penawaran, karena sudah tidak sabar \\ningin saya tunjukkan kepada orang tua bahwa inilah langkah pertama saya di dunia kerja, \\nmungkin hamper mirip dengan langkah kaki saya yang pertama ketika saya masih bayi. \\nSaya akan berjuang sekuat tenaga mencapai cita-cita saya, dengan dukungan moral dari \\norang tua yang jauh di sana. Semoga suatu hari mereka dapat menemaniku di kota \\nmetropolitan nan besar ini.'),\n",
       " Document(id='50c7113f-ff6d-4c59-8be2-93152e7d970e', metadata={'parent_id': 'c439b32a-9e4e-4805-acef-21a7daa0510e', 'source': '../dataset/RH_Budi_Casual.pdf', 'page': 0}, page_content='waktu di salah satu usaha laundry milik tetangga. Di rumah, kami juga ditemani oleh \\nnenek. Saya sangat dekat dengan nenek saya, karena sebagian besar waktu menghabiskan \\nwaktu Bersama dengan beliau, sambil menunggu kepulangan ayah dan ibu dari tempat \\nkerjanya masing-masing. Saya bersyukur dengan dukungan orang tua, diizinkan untuk \\nmenyelesaikan SD Negeri 5, dilanjutkan SMP Negeri 2 Surabaya. Setelah itu menamatkan \\nSMAN 6 Surabaya di tahun 2020. \\n \\nKondisi sekarang, saya sedang merantau ke kota besar Jakarta untuk mencari pekerjaan, \\ndan mulai merajut tangga karir saya. Saya ingin bekerja di sebuah Perusahaan teknologi \\n(atau Perusahaan perangkat lunak) karena di topik itulah ilmu yang saya tuntut. Saya sudah \\nmelamar ke 17 perusahaan dan sangat bersyukur bahwa dapat mengikuti proses-nya \\ndengan lancer. Dari jumlah tersebut, tersisa hanya 3 perusahaan yang sedang saya tunggu \\nsurat penawarannya karena saya berhasil menyelesaikan interview sampai tahap akhirnya.')]"
      ]
     },
     "execution_count": 17,
     "metadata": {},
     "output_type": "execute_result"
    }
   ],
   "source": [
    "question = \"carikan materi yang berkaitan dengan budi\"\n",
    "resultE5Indo = db.similarity_search(question, k=10, filter={\"parent_id\": {\"$in\": \"c439b32a-9e4e-4805-acef-21a7daa0510e\"}})\n",
    "resultE5Indo"
   ]
  },
  {
   "cell_type": "code",
   "execution_count": 15,
   "metadata": {},
   "outputs": [
    {
     "name": "stderr",
     "output_type": "stream",
     "text": [
      "Batches: 100%|██████████| 1/1 [00:00<00:00, 34.91it/s]\n"
     ]
    },
    {
     "data": {
      "text/plain": [
       "[Document(id='50c7113f-ff6d-4c59-8be2-93152e7d970e', metadata={'parent_id': 'c439b32a-9e4e-4805-acef-21a7daa0510e', 'source': '../dataset/RH_Budi_Casual.pdf', 'page': 0}, page_content='waktu di salah satu usaha laundry milik tetangga. Di rumah, kami juga ditemani oleh \\nnenek. Saya sangat dekat dengan nenek saya, karena sebagian besar waktu menghabiskan \\nwaktu Bersama dengan beliau, sambil menunggu kepulangan ayah dan ibu dari tempat \\nkerjanya masing-masing. Saya bersyukur dengan dukungan orang tua, diizinkan untuk \\nmenyelesaikan SD Negeri 5, dilanjutkan SMP Negeri 2 Surabaya. Setelah itu menamatkan \\nSMAN 6 Surabaya di tahun 2020. \\n \\nKondisi sekarang, saya sedang merantau ke kota besar Jakarta untuk mencari pekerjaan, \\ndan mulai merajut tangga karir saya. Saya ingin bekerja di sebuah Perusahaan teknologi \\n(atau Perusahaan perangkat lunak) karena di topik itulah ilmu yang saya tuntut. Saya sudah \\nmelamar ke 17 perusahaan dan sangat bersyukur bahwa dapat mengikuti proses-nya \\ndengan lancer. Dari jumlah tersebut, tersisa hanya 3 perusahaan yang sedang saya tunggu \\nsurat penawarannya karena saya berhasil menyelesaikan interview sampai tahap akhirnya.'),\n",
       " Document(id='fd1214ca-758f-4dec-9904-3a720a14a2d9', metadata={'parent_id': 'c439b32a-9e4e-4805-acef-21a7daa0510e', 'source': '../dataset/RH_Budi_Casual.pdf', 'page': 0}, page_content='Nama saya adalah Budi Susanto, saya seorang programmer yang baru lulus dari \\nUniversitas Hang Tuah di Surabaya di tahun 2024. Saya mengambil jurusan Teknik \\ninformatika Bersama 78 teman saya lainnya. Selama kuliah, saya mempelajari banyak hal \\nmengenai pemrograman, algorithma, kompleksitas, eﬁsiensi, kolaboratif, dan lain-lainnya \\nyang sangat menantang bagi saya. Hal ini karena saya baru mempunyai personal computer \\nsaya 5 tahun yang lalu, dan waktu itu computer adalah hal yang benar-benar baru bagi \\nsaya. \\n \\nSaya lahir di Surabaya, dalam keluarga yang kondisi ekonominya kurang baik, bapak saya \\nadalah seorang pedagang asongan yang bekerja keras membanting tulang untuk \\nmemenuhi kebutuhan hidup saya sebagai anak tunggalnya. Ibu saya juga pekerja paruh \\nwaktu di salah satu usaha laundry milik tetangga. Di rumah, kami juga ditemani oleh \\nnenek. Saya sangat dekat dengan nenek saya, karena sebagian besar waktu menghabiskan'),\n",
       " Document(id='1c561940-8181-47a9-9a7c-6cb3a83cf3e4', metadata={'parent_id': 'c439b32a-9e4e-4805-acef-21a7daa0510e', 'source': '../dataset/RH_Budi_Casual.pdf', 'page': 0}, page_content='dengan lancer. Dari jumlah tersebut, tersisa hanya 3 perusahaan yang sedang saya tunggu \\nsurat penawarannya karena saya berhasil menyelesaikan interview sampai tahap akhirnya. \\n \\nBesar harapan saya untuk dapat mendapatkan surat penawaran, karena sudah tidak sabar \\ningin saya tunjukkan kepada orang tua bahwa inilah langkah pertama saya di dunia kerja, \\nmungkin hamper mirip dengan langkah kaki saya yang pertama ketika saya masih bayi. \\nSaya akan berjuang sekuat tenaga mencapai cita-cita saya, dengan dukungan moral dari \\norang tua yang jauh di sana. Semoga suatu hari mereka dapat menemaniku di kota \\nmetropolitan nan besar ini.')]"
      ]
     },
     "execution_count": 15,
     "metadata": {},
     "output_type": "execute_result"
    }
   ],
   "source": [
    "db.similarity_search(query=question, k=10, filter={\"parent_id\": {\"$in\": \"c439b32a-9e4e-4805-acef-21a7daa0510e\"}})"
   ]
  },
  {
   "cell_type": "code",
   "execution_count": 40,
   "metadata": {},
   "outputs": [],
   "source": [
    "db.save_local(\"db_budi\")"
   ]
  },
  {
   "cell_type": "code",
   "execution_count": 35,
   "metadata": {},
   "outputs": [
    {
     "name": "stderr",
     "output_type": "stream",
     "text": [
      "Batches:   0%|          | 0/1 [00:00<?, ?it/s]"
     ]
    },
    {
     "name": "stderr",
     "output_type": "stream",
     "text": [
      "Batches: 100%|██████████| 1/1 [00:03<00:00,  3.41s/it]\n"
     ]
    }
   ],
   "source": [
    "index = faiss.IndexFlatL2(len(embeddings.embed_query(\"hello world\")))"
   ]
  },
  {
   "cell_type": "code",
   "execution_count": 36,
   "metadata": {},
   "outputs": [],
   "source": [
    "empty_db = FAISS(embedding_function=embeddings, index=index, docstore=InMemoryDocstore(), index_to_docstore_id={})"
   ]
  },
  {
   "cell_type": "code",
   "execution_count": 37,
   "metadata": {},
   "outputs": [
    {
     "name": "stderr",
     "output_type": "stream",
     "text": [
      "Batches: 100%|██████████| 1/1 [00:04<00:00,  4.18s/it]\n"
     ]
    },
    {
     "data": {
      "text/plain": [
       "['0fa73ffa-f2a8-4201-82e3-bfa069b7aff3',\n",
       " 'c7f0505e-30d3-4312-832e-04120fe6f449',\n",
       " 'e1ebbec9-7d51-4945-ba81-65e6c8cc78f5']"
      ]
     },
     "execution_count": 37,
     "metadata": {},
     "output_type": "execute_result"
    }
   ],
   "source": [
    "empty_db.add_documents(documents)"
   ]
  },
  {
   "cell_type": "code",
   "execution_count": 38,
   "metadata": {},
   "outputs": [],
   "source": [
    "question = \"carikan materi yang berkaitan dengan riwayat\""
   ]
  },
  {
   "cell_type": "code",
   "execution_count": 39,
   "metadata": {},
   "outputs": [
    {
     "name": "stderr",
     "output_type": "stream",
     "text": [
      "Batches: 100%|██████████| 1/1 [00:00<00:00,  2.30it/s]\n"
     ]
    },
    {
     "data": {
      "text/plain": [
       "[Document(id='c7f0505e-30d3-4312-832e-04120fe6f449', metadata={'parent_id': 'c439b32a-9e4e-4805-acef-21a7daa0510e', 'source': '../dataset/RH_Budi_Casual.pdf', 'page': 0}, page_content='waktu di salah satu usaha laundry milik tetangga. Di rumah, kami juga ditemani oleh \\nnenek. Saya sangat dekat dengan nenek saya, karena sebagian besar waktu menghabiskan \\nwaktu Bersama dengan beliau, sambil menunggu kepulangan ayah dan ibu dari tempat \\nkerjanya masing-masing. Saya bersyukur dengan dukungan orang tua, diizinkan untuk \\nmenyelesaikan SD Negeri 5, dilanjutkan SMP Negeri 2 Surabaya. Setelah itu menamatkan \\nSMAN 6 Surabaya di tahun 2020. \\n \\nKondisi sekarang, saya sedang merantau ke kota besar Jakarta untuk mencari pekerjaan, \\ndan mulai merajut tangga karir saya. Saya ingin bekerja di sebuah Perusahaan teknologi \\n(atau Perusahaan perangkat lunak) karena di topik itulah ilmu yang saya tuntut. Saya sudah \\nmelamar ke 17 perusahaan dan sangat bersyukur bahwa dapat mengikuti proses-nya \\ndengan lancer. Dari jumlah tersebut, tersisa hanya 3 perusahaan yang sedang saya tunggu \\nsurat penawarannya karena saya berhasil menyelesaikan interview sampai tahap akhirnya.'),\n",
       " Document(id='e1ebbec9-7d51-4945-ba81-65e6c8cc78f5', metadata={'parent_id': 'c439b32a-9e4e-4805-acef-21a7daa0510e', 'source': '../dataset/RH_Budi_Casual.pdf', 'page': 0}, page_content='dengan lancer. Dari jumlah tersebut, tersisa hanya 3 perusahaan yang sedang saya tunggu \\nsurat penawarannya karena saya berhasil menyelesaikan interview sampai tahap akhirnya. \\n \\nBesar harapan saya untuk dapat mendapatkan surat penawaran, karena sudah tidak sabar \\ningin saya tunjukkan kepada orang tua bahwa inilah langkah pertama saya di dunia kerja, \\nmungkin hamper mirip dengan langkah kaki saya yang pertama ketika saya masih bayi. \\nSaya akan berjuang sekuat tenaga mencapai cita-cita saya, dengan dukungan moral dari \\norang tua yang jauh di sana. Semoga suatu hari mereka dapat menemaniku di kota \\nmetropolitan nan besar ini.'),\n",
       " Document(id='0fa73ffa-f2a8-4201-82e3-bfa069b7aff3', metadata={'parent_id': 'c439b32a-9e4e-4805-acef-21a7daa0510e', 'source': '../dataset/RH_Budi_Casual.pdf', 'page': 0}, page_content='Nama saya adalah Budi Susanto, saya seorang programmer yang baru lulus dari \\nUniversitas Hang Tuah di Surabaya di tahun 2024. Saya mengambil jurusan Teknik \\ninformatika Bersama 78 teman saya lainnya. Selama kuliah, saya mempelajari banyak hal \\nmengenai pemrograman, algorithma, kompleksitas, eﬁsiensi, kolaboratif, dan lain-lainnya \\nyang sangat menantang bagi saya. Hal ini karena saya baru mempunyai personal computer \\nsaya 5 tahun yang lalu, dan waktu itu computer adalah hal yang benar-benar baru bagi \\nsaya. \\n \\nSaya lahir di Surabaya, dalam keluarga yang kondisi ekonominya kurang baik, bapak saya \\nadalah seorang pedagang asongan yang bekerja keras membanting tulang untuk \\nmemenuhi kebutuhan hidup saya sebagai anak tunggalnya. Ibu saya juga pekerja paruh \\nwaktu di salah satu usaha laundry milik tetangga. Di rumah, kami juga ditemani oleh \\nnenek. Saya sangat dekat dengan nenek saya, karena sebagian besar waktu menghabiskan')]"
      ]
     },
     "execution_count": 39,
     "metadata": {},
     "output_type": "execute_result"
    }
   ],
   "source": [
    "empty_db.similarity_search(query=question, k=10, filter={\"parent_id\": {\"$in\": \"c439b32a-9e4e-4805-acef-21a7daa0510e\"}})"
   ]
  }
 ],
 "metadata": {
  "kernelspec": {
   "display_name": "venv",
   "language": "python",
   "name": "python3"
  },
  "language_info": {
   "codemirror_mode": {
    "name": "ipython",
    "version": 3
   },
   "file_extension": ".py",
   "mimetype": "text/x-python",
   "name": "python",
   "nbconvert_exporter": "python",
   "pygments_lexer": "ipython3",
   "version": "3.12.3"
  }
 },
 "nbformat": 4,
 "nbformat_minor": 2
}
