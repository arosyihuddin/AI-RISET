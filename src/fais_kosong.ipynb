{
 "cells": [
  {
   "cell_type": "code",
   "execution_count": 1,
   "metadata": {},
   "outputs": [
    {
     "data": {
      "text/plain": [
       "True"
      ]
     },
     "execution_count": 1,
     "metadata": {},
     "output_type": "execute_result"
    }
   ],
   "source": [
    "from langchain_huggingface import HuggingFaceEmbeddings\n",
    "from langchain.vectorstores import FAISS\n",
    "from dotenv import load_dotenv\n",
    "from langchain_community.docstore.in_memory import InMemoryDocstore\n",
    "import faiss\n",
    "load_dotenv()"
   ]
  },
  {
   "cell_type": "code",
   "execution_count": 2,
   "metadata": {},
   "outputs": [
    {
     "name": "stderr",
     "output_type": "stream",
     "text": [
      "/home/pstar7/Documents/RAG/venv/lib/python3.12/site-packages/tqdm/auto.py:21: TqdmWarning: IProgress not found. Please update jupyter and ipywidgets. See https://ipywidgets.readthedocs.io/en/stable/user_install.html\n",
      "  from .autonotebook import tqdm as notebook_tqdm\n"
     ]
    }
   ],
   "source": [
    "embeddings =  HuggingFaceEmbeddings(\n",
    "        model_name=\"LazarusNLP/all-indo-e5-small-v4\",     # Provide the pre-trained model's path\n",
    "        model_kwargs={'device':'cpu'}, # Pass the model configuration options\n",
    "        encode_kwargs={'normalize_embeddings': False}, # Pass the encoding options\n",
    "        show_progress=True\n",
    "    )"
   ]
  },
  {
   "cell_type": "code",
   "execution_count": 3,
   "metadata": {},
   "outputs": [
    {
     "name": "stderr",
     "output_type": "stream",
     "text": [
      "Batches: 100%|██████████| 1/1 [00:00<00:00,  3.84it/s]\n"
     ]
    }
   ],
   "source": [
    "index = faiss.IndexFlatL2(len(embeddings.embed_query(\"hello world\")))"
   ]
  },
  {
   "cell_type": "code",
   "execution_count": 4,
   "metadata": {},
   "outputs": [],
   "source": [
    "empty_db = FAISS(embedding_function=embeddings, index=index, docstore=InMemoryDocstore(), index_to_docstore_id={})\n",
    "empty_db.save_local(\"empty_db\")"
   ]
  },
  {
   "cell_type": "code",
   "execution_count": 21,
   "metadata": {},
   "outputs": [],
   "source": [
    "db = FAISS.load_local(\"empty_db\", embeddings=embeddings, allow_dangerous_deserialization=True)"
   ]
  },
  {
   "cell_type": "code",
   "execution_count": 18,
   "metadata": {},
   "outputs": [
    {
     "name": "stderr",
     "output_type": "stream",
     "text": [
      "Batches: 100%|██████████| 1/1 [00:00<00:00, 11.32it/s]\n"
     ]
    },
    {
     "data": {
      "text/plain": [
       "['6a008a5f-d766-46c4-90c5-70c9fca178e7']"
      ]
     },
     "execution_count": 18,
     "metadata": {},
     "output_type": "execute_result"
    }
   ],
   "source": [
    "db.add_texts([\"Inisialisasi FAISS Kosong: Pada langkah pertama, FAISS diinisialisasi dengan index kosong, menggunakan IndexFlatL2 (index pencarian menggunakan jarak Euclidean). Anda juga bisa menggunakan jenis index lainnya sesuai kebutuhan Anda.\\nPenyimpanan FAISS: Setelah FAISS kosong diinisialisasi, kita menyimpannya menggunakan save_local(), yang menyimpan index dan docstore di direktori yang ditentukan. Dalam kasus ini, kita menyimpan ke folder empty_db.\\nMemuat FAISS: Pada langkah kedua, kita memuat index FAISS yang sudah disimpan menggunakan load_local(). Setelah itu, Anda bisa menambahkan vektor baru ke dalam index dan metadata ke dalam docstore.\\nMenambahkan Data: Dengan menggunakan metode index.add(), kita menambahkan vektor baru ke dalam index. Metadata untuk setiap vektor bisa disimpan di docstore yang dimiliki oleh FAISS.\\nMenyimpan Perubahan: Setelah menambahkan data baru, kita menyimpan kembali FAISS menggunakan save_local(), sehingga index dan metadata yang baru akan dipertahankan\"])"
   ]
  },
  {
   "cell_type": "code",
   "execution_count": 22,
   "metadata": {},
   "outputs": [
    {
     "data": {
      "text/plain": [
       "{'_dict': {'6a008a5f-d766-46c4-90c5-70c9fca178e7': Document(id='6a008a5f-d766-46c4-90c5-70c9fca178e7', metadata={}, page_content='Inisialisasi FAISS Kosong: Pada langkah pertama, FAISS diinisialisasi dengan index kosong, menggunakan IndexFlatL2 (index pencarian menggunakan jarak Euclidean). Anda juga bisa menggunakan jenis index lainnya sesuai kebutuhan Anda.\\nPenyimpanan FAISS: Setelah FAISS kosong diinisialisasi, kita menyimpannya menggunakan save_local(), yang menyimpan index dan docstore di direktori yang ditentukan. Dalam kasus ini, kita menyimpan ke folder empty_db.\\nMemuat FAISS: Pada langkah kedua, kita memuat index FAISS yang sudah disimpan menggunakan load_local(). Setelah itu, Anda bisa menambahkan vektor baru ke dalam index dan metadata ke dalam docstore.\\nMenambahkan Data: Dengan menggunakan metode index.add(), kita menambahkan vektor baru ke dalam index. Metadata untuk setiap vektor bisa disimpan di docstore yang dimiliki oleh FAISS.\\nMenyimpan Perubahan: Setelah menambahkan data baru, kita menyimpan kembali FAISS menggunakan save_local(), sehingga index dan metadata yang baru akan dipertahankan')}}"
      ]
     },
     "execution_count": 22,
     "metadata": {},
     "output_type": "execute_result"
    }
   ],
   "source": [
    "db.docstore.__dict__"
   ]
  },
  {
   "cell_type": "code",
   "execution_count": 20,
   "metadata": {},
   "outputs": [],
   "source": [
    "db.save_local(\"empty_db\")"
   ]
  }
 ],
 "metadata": {
  "kernelspec": {
   "display_name": "venv",
   "language": "python",
   "name": "python3"
  },
  "language_info": {
   "codemirror_mode": {
    "name": "ipython",
    "version": 3
   },
   "file_extension": ".py",
   "mimetype": "text/x-python",
   "name": "python",
   "nbconvert_exporter": "python",
   "pygments_lexer": "ipython3",
   "version": "3.12.3"
  }
 },
 "nbformat": 4,
 "nbformat_minor": 2
}
