{
 "cells": [
  {
   "cell_type": "markdown",
   "metadata": {},
   "source": [
    "# import Library"
   ]
  },
  {
   "cell_type": "code",
   "execution_count": 1,
   "metadata": {},
   "outputs": [
    {
     "data": {
      "text/plain": [
       "True"
      ]
     },
     "execution_count": 1,
     "metadata": {},
     "output_type": "execute_result"
    }
   ],
   "source": [
    "from langchain_huggingface import HuggingFaceEmbeddings\n",
    "from langchain.vectorstores import FAISS\n",
    "from dotenv import load_dotenv\n",
    "from together import Together\n",
    "from openai import OpenAI\n",
    "import os\n",
    "load_dotenv()"
   ]
  },
  {
   "cell_type": "markdown",
   "metadata": {},
   "source": [
    "# Function"
   ]
  },
  {
   "cell_type": "code",
   "execution_count": 9,
   "metadata": {},
   "outputs": [],
   "source": [
    "def get_answer_openai(query, context):\n",
    "    # Format prompt\n",
    "    prompt = f\"Pertanyaan: {query}\\nKonteks: {context}\\nJawaban:\"\n",
    "    # print(os.getenv(\"OPENAI_API_KEY\"))\n",
    "    OpenAiclient = OpenAI(api_key=os.getenv(\"OPENAI_API_KEY\"))\n",
    "\n",
    "    # Panggil API OpenAI untuk mendapatkan jawaban\n",
    "    completion = OpenAiclient.chat.completions.create(\n",
    "        model=\"gpt-4o\",  # Gunakan model yang sesuai (gpt-4o-mini atau gpt-3.5-turbo)\n",
    "        store=True,\n",
    "        messages=[\n",
    "            # {\"role\": \"system\", \"content\": \"kamu seorang guru yang dapat membuat soal serta menilai jawaban dari soal\"},\n",
    "            # {\"role\": \"system\", \"content\": \"buatkan soal beserta jawaban nya dan juga point pada setiap soal. total point adalah 100\"},\n",
    "            # {\"role\": \"system\", \"content\": 'output yang dihasilkan gunakan format json seperti ini: {\"id\": 1, \"quiz\": {\"id\": 10, \"title\": \"Sample Quiz\", \"time\": 30, \"auth_status\": \"open\", \"question_count\": 5, \"total_mark\": 100, \"pass_mark\": 50, \"average_grade\": 75, \"student_count\": 20, \"certificates_count\": 10, \"success_rate\": 80, \"status\": \"active\", \"attempt\": 1, \"created_at\": 1672531200, \"certificate\": 1, \"teacher\": {\"id\": 100, \"name\": \"John Doe\", \"email\": \"johndoe@example.com\"}, \"auth_attempt_count\": 2, \"attempt_state\": \"ongoing\", \"auth_can_start\": true, \"webinar\": {\"id\": 200, \"title\": \"Introduction to Quizzes\", \"description\": \"A beginner-friendly webinar.\"}, \"questions\": [{\"id\": 1, \"title\": \"What is Flutter?\", \"type\": \"multiple_choice\", \"descriptive_correct_answer\": null, \"grade\": \"10\", \"created_at\": 1672531200, \"answers\": [{\"id\": 1, \"title\": \"A mobile app SDK\", \"correct\": 1, \"image\": null, \"created_at\": 1672531200, \"updated_at\": 1672531200}, {\"id\": 2, \"title\": \"A database management system\", \"correct\": 0, \"image\": null, \"created_at\": 1672531200, \"updated_at\": 1672531200}], \"updated_at\": 1672531200}], \"auth_can_download_certificate\": false, \"participated_count\": 10, \"latest_students\": [{\"id\": 101, \"name\": \"Jane Doe\", \"email\": \"janedoe@example.com\"}]}, \"webinar\": {\"id\": 200, \"title\": \"Introduction to Quizzes\", \"description\": \"A beginner-friendly webinar.\"}, \"user\": {\"id\": 101, \"name\": \"Jane Doe\", \"email\": \"janedoe@example.com\"}, \"user_grade\": 85, \"status\": \"completed\", \"created_at\": 1672531200, \"auth_can_try_again\": true, \"count_try_again\": 1, \"reviewable\": true, \"answer_sheet\": {\"items\": {\"1\": {\"grade\": \"10\", \"status\": true, \"answer\": 1}}, \"attempt_number\": 1}, \"quiz_review\": [{\"id\": 1, \"title\": \"What is Flutter?\", \"type\": \"multiple_choice\", \"descriptive_correct_answer\": null, \"grade\": \"10\", \"created_at\": 1672531200, \"answers\": [{\"id\": 1, \"title\": \"A mobile app SDK\", \"correct\": 1, \"image\": null, \"created_at\": 1672531200, \"updated_at\": 1672531200}], \"updated_at\": 1672531200, \"user_answer\": {\"grade\": \"10\", \"status\": true, \"answer\": 1}, \"multiple_correct_answer\": null}]}'},\n",
    "            {\"role\": \"user\", \"content\": prompt}\n",
    "        ],\n",
    "        # max_tokens=200\n",
    "    )\n",
    "\n",
    "    # Ambil hasil dari response dengan cara yang benar\n",
    "    answer = completion.choices[0].message.content.strip()\n",
    "    return answer"
   ]
  },
  {
   "cell_type": "code",
   "execution_count": 10,
   "metadata": {},
   "outputs": [],
   "source": [
    "def get_answer_llama(query, context):\n",
    "    # Format prompt\n",
    "    prompt = f\"Pertanyaan: {query}\\nKonteks: {context}\\nJawaban:\"\n",
    "    \n",
    "    togetherClient = Together(api_key=os.getenv(\"TOGETHER_API_KEY\"))\n",
    "\n",
    "    response = togetherClient.chat.completions.create(\n",
    "    model=\"meta-llama/Llama-3.3-70B-Instruct-Turbo-Free\",\n",
    "    messages=[\n",
    "        # {\"role\": \"system\", \"content\": \"kamu seorang asisten guru dan siswa dalam sebuah platform pembelajaran  yang dapat membuat soal serta menilai jawaban dari soal\"},\n",
    "        # {\"role\": \"system\", \"content\": \"buatkan soal beserta jawaban nya dan juga point pada setiap soal. total point adalah 100\"},\n",
    "        # {\"role\": \"system\", \"content\": 'output yang dihasilkan gunakan format json seperti ini: {\"id\": 1, \"quiz\": {\"id\": 10, \"title\": \"Sample Quiz\", \"time\": 30, \"auth_status\": \"open\", \"question_count\": 5, \"total_mark\": 100, \"pass_mark\": 50, \"average_grade\": 75, \"student_count\": 20, \"certificates_count\": 10, \"success_rate\": 80, \"status\": \"active\", \"attempt\": 1, \"created_at\": 1672531200, \"certificate\": 1, \"teacher\": {\"id\": 100, \"name\": \"John Doe\", \"email\": \"johndoe@example.com\"}, \"auth_attempt_count\": 2, \"attempt_state\": \"ongoing\", \"auth_can_start\": true, \"webinar\": {\"id\": 200, \"title\": \"Introduction to Quizzes\", \"description\": \"A beginner-friendly webinar.\"}, \"questions\": [{\"id\": 1, \"title\": \"What is Flutter?\", \"type\": \"multiple_choice\", \"descriptive_correct_answer\": null, \"grade\": \"10\", \"created_at\": 1672531200, \"answers\": [{\"id\": 1, \"title\": \"A mobile app SDK\", \"correct\": 1, \"image\": null, \"created_at\": 1672531200, \"updated_at\": 1672531200}, {\"id\": 2, \"title\": \"A database management system\", \"correct\": 0, \"image\": null, \"created_at\": 1672531200, \"updated_at\": 1672531200}], \"updated_at\": 1672531200}], \"auth_can_download_certificate\": false, \"participated_count\": 10, \"latest_students\": [{\"id\": 101, \"name\": \"Jane Doe\", \"email\": \"janedoe@example.com\"}]}, \"webinar\": {\"id\": 200, \"title\": \"Introduction to Quizzes\", \"description\": \"A beginner-friendly webinar.\"}, \"user\": {\"id\": 101, \"name\": \"Jane Doe\", \"email\": \"janedoe@example.com\"}, \"user_grade\": 85, \"status\": \"completed\", \"created_at\": 1672531200, \"auth_can_try_again\": true, \"count_try_again\": 1, \"reviewable\": true, \"answer_sheet\": {\"items\": {\"1\": {\"grade\": \"10\", \"status\": true, \"answer\": 1}}, \"attempt_number\": 1}, \"quiz_review\": [{\"id\": 1, \"title\": \"What is Flutter?\", \"type\": \"multiple_choice\", \"descriptive_correct_answer\": null, \"grade\": \"10\", \"created_at\": 1672531200, \"answers\": [{\"id\": 1, \"title\": \"A mobile app SDK\", \"correct\": 1, \"image\": null, \"created_at\": 1672531200, \"updated_at\": 1672531200}], \"updated_at\": 1672531200, \"user_answer\": {\"grade\": \"10\", \"status\": true, \"answer\": 1}, \"multiple_correct_answer\": null}]}'},\n",
    "        {\"role\": \"user\", \"content\": prompt}\n",
    "    ],\n",
    "    # max_tokens=null,\n",
    "    temperature=0.7,\n",
    "    top_p=0.7,\n",
    "    top_k=50,\n",
    "    repetition_penalty=1,\n",
    "    stop=[\"<|eot_id|>\",\"<|eom_id|>\"],\n",
    "    stream=True\n",
    "    )\n",
    "    \n",
    "    answer = \"\".join([token.choices[0].delta.content for token in response])\n",
    "    return answer"
   ]
  },
  {
   "cell_type": "markdown",
   "metadata": {},
   "source": [
    "# Inisialisasi Database & Embedding"
   ]
  },
  {
   "cell_type": "code",
   "execution_count": 4,
   "metadata": {},
   "outputs": [
    {
     "name": "stderr",
     "output_type": "stream",
     "text": [
      "/home/pstar7/Documents/RAG/venv/lib/python3.12/site-packages/tqdm/auto.py:21: TqdmWarning: IProgress not found. Please update jupyter and ipywidgets. See https://ipywidgets.readthedocs.io/en/stable/user_install.html\n",
      "  from .autonotebook import tqdm as notebook_tqdm\n"
     ]
    }
   ],
   "source": [
    "embeddings =  HuggingFaceEmbeddings(\n",
    "        model_name=\"LazarusNLP/all-indo-e5-small-v4\",     # Provide the pre-trained model's path\n",
    "        model_kwargs={'device':'cpu'}, # Pass the model configuration options\n",
    "        encode_kwargs={'normalize_embeddings': False}, # Pass the encoding options\n",
    "        show_progress=True\n",
    "    )\n",
    "loadDB = FAISS.load_local(folder_path=\"db_laporan\", embeddings=embeddings, allow_dangerous_deserialization=True)"
   ]
  },
  {
   "cell_type": "markdown",
   "metadata": {},
   "source": [
    "# Retrieval"
   ]
  },
  {
   "cell_type": "code",
   "execution_count": 5,
   "metadata": {},
   "outputs": [
    {
     "name": "stderr",
     "output_type": "stream",
     "text": [
      "Batches: 100%|██████████| 1/1 [00:00<00:00,  3.18it/s]\n"
     ]
    },
    {
     "data": {
      "text/plain": [
       "[Document(id='60a8ee34-4dc5-4333-a0ee-695f386dfa39', metadata={'parent_id': '23e9be05-09b2-4387-b39f-d86469fcb9bc', 'source': '../dataset/UAS.pdf', 'page': 8}, page_content='agar instance-instance yang mempunyai IP Address Internal akan tetap dapat diakses oleh \\ncontroller. Jadi nantinya, instance -instance terseb ut akan mempunyai dua buah IP \\nAddress. IP Address pertama adalah IP Address Internal, dan yang kedua adalah external \\nhasil dari floating IP. \\n2.5. Replikasi Database \\nReplikasi Database adalah suatu proses menyalin database ke database lain yang \\nada di server yang sama atau server yang berbeda, dan mensinkronisasi kan datanya untuk \\nmenjaga konsistensi. Dengan menggunakan Replikasi ini, data dapat didistribusikan ke \\nlokasi yang berbeda dengan melalui jalur local yaitu LAN, WAN, atau internet. Replikasi'),\n",
       " Document(id='9ffd73b5-a14a-4ec1-be05-c4b3b0233748', metadata={'parent_id': 'd1b6cad6-18aa-49f1-80d7-2546f3b7eacb', 'source': '../dataset/UAS.pdf', 'page': 6}, page_content='data. Database Management System ini dapat berjalan menggunakan command sistem, \\nyaitu dengan menginputkan command, administrator database, yang akan memberikan \\nintruksi untuk mengambil, mengubah, dan atau memut data yang ada.  \\nSalah satu contoh DBMS yang banyak digunakan karena kompatibel den gan \\nbanyak platform komputasi seperti Linux, Windows, dan MacOS adalah MySQL. \\nMySQL adalah suatu sistem manajemen database relasional berbasis SQL dan arsitektur \\nclient – server. Mysql mendukung bahasa C, C++, Java, Perl, PHP, Python, dan Ruby. \\nMySQL bersifat open-source sehingga siapa pun bisa mengubah, mendistribusikan, dan \\nmemublikasikannya sesuai dengan ketentuan General Public License (GNU). \\n2.2. WEB Server \\nWeb Server adalah software yang berguna untuk menerima permintaan (request) \\nberupa halaman web dalam protokol HTTP atau HTTPS dari sebuah klien, yang dalam \\nkonteks ini adalah browser, misalnya Google Chrome, Mozilla Firefox, Safari, dan'),\n",
       " Document(id='3a767e55-f933-4511-9412-05b664d4db06', metadata={'parent_id': 'd1b6cad6-18aa-49f1-80d7-2546f3b7eacb', 'source': '../dataset/UAS.pdf', 'page': 6}, page_content='3 | Proyek Sistem Terdistribusi Kelompok 4 (Copyright 2022) \\n \\nBAB II  \\nDASAR TEORI \\n2.1. DBMS \\nDatabase Management System atau DMBS adalah software yang digunakan \\nuntuk mengelola, menyimpan, dan mengambil database. Software ini memungkinkan \\nuser, membaca, membuat, dan memperbarui data. Data merupakan sejumpulan informasi \\nseperti teks, angka, dan med ia, yang semuanya bisa dikekola dalam database. DMBS \\nmengoptimalkan pengelolaan data dengan menggunakan teknik skema database yang \\ndisebut normalisasi, dimana nanti hasiknya berupa table data besar yang akan dipecah \\nmenjadi beberapa bagian – bagian yang lebih kecil lagu guna meminimalkan redudansi \\ndata dan dependensi.  \\nDMBS ini menudukung akses konkuren, sehingga dari beberapa user dapat \\nberinteraksi dengan database secara bersamaan, tapi tetao mempertahankan integritas \\ndata. Database Management System ini dapat berjalan menggunakan command sistem, \\nyaitu dengan menginputkan command, administrator database, yang akan memberikan'),\n",
       " Document(id='4aa50e11-8487-4e91-a691-d47d4be8da88', metadata={'parent_id': 'f2759e55-e3dc-4332-9e87-9da273735c1d', 'source': '../dataset/UAS.pdf', 'page': 33}, page_content=\"30 | Proyek Sistem Terdistribusi Kelompok 4 (Copyright 2022) \\n \\n \\n5. IP yang di gunakan untuk mengakses aplikasinya menggunakan IP dari floating IP \\natau IP bayangan. \\n3.4.4. Konfigurasi Replikasi DBMS MySQL \\nSebelum mulai mengkonfigurasi Replikasi MySQL catat terlebih dahulu IP dari \\ntiap server, misal IP yang di gunakan adalah: \\n1. 192.168.40.1 sebagai master \\n2. 192,168,40.2 sebagai Node server 1 \\nSetelah itu lakukan langkah-langkah sebagai berikut: \\n\\uf0b7 Setup Setiap Server \\n1. Install Nginx \\n \\n2. Install MySQL-server \\n \\n3. Install PHP \\n \\n4. Login pada MySQL sebagai root \\n \\n5. Ganti Password root \\n \\n6. Keluar dari MySQL \\n$ sudo apt install nginx -y  \\n$ sudo apt install mysql-server -y \\n$ sudo apt-get install php php-mbstring php-zip php-fpm php-curl php-mysql \\nphp-gd php -cgi php -soap php -sqlite3 php -xml php -redis php -bcmath php -\\nimagick php-intl -y \\n$ sudo mysql \\nmysql> ALTER USER 'root'@'localhost' IDENTIFIED WITH \\nmysql_native_password by 'Qwerty123456@';\"),\n",
       " Document(id='7e7d2d04-b6aa-43fa-8b05-b8ab98ada5ce', metadata={'parent_id': '8ecdd378-fd44-40a9-8cba-c6df9c67b15d', 'source': '../dataset/UAS.pdf', 'page': 9}, page_content='6 | Proyek Sistem Terdistribusi Kelompok 4 (Copyright 2022) \\n \\nini memungkinkan untuk mendukung kinerja suatu aplikasi melalui distribusi data secara \\nfisik seperti pada transaksi online, ataupun pemrosesan basis data terdistribusi melalui \\nbeberapa server. \\nModel Replikasi Database, adalah sebagai berikut: \\n1. One master, one slave. \\n \\nGambar 1 One Master, One Slave \\n2. One master, many slave. \\n \\nGambar 2 One Master, Many Slave \\n3. Master/slave circular relationship. \\n \\nGambar 3 Master/Slave Circular Relationship'),\n",
       " Document(id='909828c8-1e5d-4c15-9acd-edda18a343e9', metadata={'parent_id': 'e53290cd-65e6-4bb8-9ba5-263e8d920338', 'source': '../dataset/UAS.pdf', 'page': 38}, page_content=\"35 | Proyek Sistem Terdistribusi Kelompok 4 (Copyright 2022) \\n \\n \\n6. Jalankan replication pluggin \\n \\nJika sudah connect maka akan muncul error \\n7. Verifikasi Server 2 / 3 sudah menjadi anggota grup replikasi \\n \\n3.4.5. Konfigurasi Aplikasi \\nUntuk memasukkan Aplikasi ke dalam sistem dapat mengikuti langkah -langkah \\nsebagai berikut: \\n1. Install Git dan juga Composer \\n \\n2. Masuk direktori /var/www \\n \\n3. Clone aplikasi dari github \\n \\n4. Update vendor \\n \\nJika ada pertanyaan yes? tekan enter \\n5. Rubah Hak akses untuk storage \\n \\nmysql> SET SQL_LOG_BIN=0; \\nmysql> SET GLOBAL read_only = OFF; \\nmysql> CREATE USER 'replication_user'@'%' IDENTIFIED WITH \\nmysql_native_password BY 'Qwerty123456@'; \\nmysql> GRANT REPLICATION SLAVE ON *.* TO 'replication_user'@'%'; \\nmysql> FLUSH PRIVILEGES; \\nmysql> SET SQL_LOG_BIN=1; \\nmysql> CHANGE MASTER TO MASTER_USER='replication_user', \\nMASTER_PASSWORD='Qwerty123456@' FOR CHANNEL 'group_replication_recovery'; \\nmysql> START GROUP_REPLICATION;\"),\n",
       " Document(id='9c6b525a-a98c-41e2-8176-8ca0663a3076', metadata={'parent_id': '88bb3516-9e53-4e76-95ff-ffa7ac89f0c7', 'source': '../dataset/UAS.pdf', 'page': 35}, page_content='- loose-group_replication_group_seeds (IP semua server yang terlibat replikasi) \\n- loose-group_replication_bootstrap_group=OFF (mencegah bootstrap group agar \\ntidak ada konflik) \\n- report_host (IP server yang sedang di konfigurasi) \\n7. Restart MySQL \\n \\n8. Login pada MySQL Server 1 \\n[mysqld] \\nserver_id=1  \\nbind-address=0.0.0.0 \\ngtid_mode=ON  \\nenforce_gtid_consistency=ON \\nbinlog_checksum=NONE \\n \\nplugin_load_add=\\'group_replication.so\\' \\ngroup_replication_single_primary_mode=OFF \\nloose-group_replication_group_name=\"00000000-11112222-3333-444444444444\" \\n \\nloose-group_replication_start_on_boot=ON \\nloose-group_replication_local_address=\"192.168.40.1:33061\" \\nloose-group_replication_group_seeds=\"192.168.40.1:33061,192.168.40.2:33061 \" \\nloose-group_replication_bootstrap_group=OFF \\nreport_host=192.168.40.1 \\n$ sudo service mysql restart'),\n",
       " Document(id='fc89002c-c918-4e2d-bea7-8cb9b57eec09', metadata={'parent_id': '88bb3516-9e53-4e76-95ff-ffa7ac89f0c7', 'source': '../dataset/UAS.pdf', 'page': 35}, page_content='32 | Proyek Sistem Terdistribusi Kelompok 4 (Copyright 2022) \\n \\n \\nKeterangan: \\n- server_id=1 (Server ke-1) \\n- bind-address=0.0.0.0 (Listen semua IP yang ada pada lingkungan replikasi) \\n- gtid_mode=ON (Jalankan replikasi dengan pengidentifikasi transaksi global) \\n- enforce_gtid_consistency=ON (MySQL hanya akan mengeksekusi query yang \\ndapat dicatat dengan aman pada replikasi) \\n-  plugin_load_add=’group_replication.so’ (jalankan plugin replikasi) \\n-  group_replication_single_primary_mode=OFF (semua server punya akses untuk \\nwrite dan read) \\n- loose-group_replication_group_name (nama UUID group replikasi) \\n- loose-group_replication_start_on_boot (ja lankan / tidak replikasi jika server \\nterestart) \\n- loose-group_replication_local_address (IP server yang sedang di konfigurasi) \\n- loose-group_replication_group_seeds (IP semua server yang terlibat replikasi) \\n- loose-group_replication_bootstrap_group=OFF (mencegah bootstrap group agar \\ntidak ada konflik)'),\n",
       " Document(id='10815f95-beac-492f-992e-5d66b891c76c', metadata={'parent_id': '4e1f68b6-96ac-4d9a-b9b5-fd3a6d276bf3', 'source': '../dataset/UAS.pdf', 'page': 54}, page_content='Adinusa. Panduan install ubuntu server di virtual box. Adinusa.id. Diakses pada 06 \\nDesember 2022 dari https://adinusa.id/content/post/blogs/panduan-install-ubuntu-server-\\ndi-virtualbox/ \\nYasirutomo. Konfigurasi replikasi database Mysql. Yasirutomo.com. Diakses pada 06 \\ndesember 2022 dari https://yasirutomo.com/konfigurasi-replikasi-database-mysql/ \\nW. Dyas, “Penerapan Repliasi Asyncrhonous pada basis data terdistribusi untuk kemanan \\ndata”, Jurnal Ilmiah Teknologi dan Informasi, vol 6, no. 1, mei 2016'),\n",
       " Document(id='bc1008e8-24d9-4c7d-bd1f-a929c5294686', metadata={'parent_id': 'cfe02c3c-365d-4398-a3fa-33c27487aa3e', 'source': '../dataset/UAS.pdf', 'page': 36}, page_content=\"33 | Proyek Sistem Terdistribusi Kelompok 4 (Copyright 2022) \\n \\n \\n9. Buat Replication User Server 1 \\n \\nGanti: Qwerty123456@ dengan password MySQL, syarat: harus ada huruf besar, \\nhuruf kecil, angka dan karakter. \\n10. Cek tidak ada nama group yang sama, kemudian jalankan Group replikasi \\n \\n11. Matikan group_replication_bootstrap_group untuk menghindari pembuatan \\nbanyak grup \\n \\n12. Verifikasi status grup replication_group_members \\n \\n* Contoh hasil verifikasi output mirip dengan ini: \\n \\n13. Buat database dengan nama simak \\n \\n14. Cek Database \\n$ sudo mysql -u root -p \\nmysql> SET SQL_LOG_BIN=0; \\nmysql> SET GLOBAL read_only = OFF; \\nmysql> CREATE USER 'replication_user'@'%' IDENTIFIED WITH \\nmysql_native_password BY 'Qwerty123456@'; \\nmysql> GRANT REPLICATION SLAVE ON *.* TO 'replication_user'@'%'; \\nmysql> FLUSH PRIVILEGES; \\nmysql> SET SQL_LOG_BIN=1; \\nmysql> CHANGE MASTER TO MASTER_USER='replication_user', \\nMASTER_PASSWORD='Qwerty123456@' FOR CHANNEL 'group_replication_recovery';\")]"
      ]
     },
     "execution_count": 5,
     "metadata": {},
     "output_type": "execute_result"
    }
   ],
   "source": [
    "query = \"bagaimana caranya mereplikasi database\"\n",
    "result = loadDB.similarity_search(query, k=10)\n",
    "result"
   ]
  },
  {
   "cell_type": "code",
   "execution_count": 6,
   "metadata": {},
   "outputs": [
    {
     "data": {
      "text/plain": [
       "'agar instance-instance yang mempunyai IP Address Internal akan tetap dapat diakses oleh \\ncontroller. Jadi nantinya, instance -instance terseb ut akan mempunyai dua buah IP \\nAddress. IP Address pertama adalah IP Address Internal, dan yang kedua adalah external \\nhasil dari floating IP. \\n2.5. Replikasi Database \\nReplikasi Database adalah suatu proses menyalin database ke database lain yang \\nada di server yang sama atau server yang berbeda, dan mensinkronisasi kan datanya untuk \\nmenjaga konsistensi. Dengan menggunakan Replikasi ini, data dapat didistribusikan ke \\nlokasi yang berbeda dengan melalui jalur local yaitu LAN, WAN, atau internet. Replikasidata. Database Management System ini dapat berjalan menggunakan command sistem, \\nyaitu dengan menginputkan command, administrator database, yang akan memberikan \\nintruksi untuk mengambil, mengubah, dan atau memut data yang ada.  \\nSalah satu contoh DBMS yang banyak digunakan karena kompatibel den gan \\nbanyak platform komputasi seperti Linux, Windows, dan MacOS adalah MySQL. \\nMySQL adalah suatu sistem manajemen database relasional berbasis SQL dan arsitektur \\nclient – server. Mysql mendukung bahasa C, C++, Java, Perl, PHP, Python, dan Ruby. \\nMySQL bersifat open-source sehingga siapa pun bisa mengubah, mendistribusikan, dan \\nmemublikasikannya sesuai dengan ketentuan General Public License (GNU). \\n2.2. WEB Server \\nWeb Server adalah software yang berguna untuk menerima permintaan (request) \\nberupa halaman web dalam protokol HTTP atau HTTPS dari sebuah klien, yang dalam \\nkonteks ini adalah browser, misalnya Google Chrome, Mozilla Firefox, Safari, dan3 | Proyek Sistem Terdistribusi Kelompok 4 (Copyright 2022) \\n \\nBAB II  \\nDASAR TEORI \\n2.1. DBMS \\nDatabase Management System atau DMBS adalah software yang digunakan \\nuntuk mengelola, menyimpan, dan mengambil database. Software ini memungkinkan \\nuser, membaca, membuat, dan memperbarui data. Data merupakan sejumpulan informasi \\nseperti teks, angka, dan med ia, yang semuanya bisa dikekola dalam database. DMBS \\nmengoptimalkan pengelolaan data dengan menggunakan teknik skema database yang \\ndisebut normalisasi, dimana nanti hasiknya berupa table data besar yang akan dipecah \\nmenjadi beberapa bagian – bagian yang lebih kecil lagu guna meminimalkan redudansi \\ndata dan dependensi.  \\nDMBS ini menudukung akses konkuren, sehingga dari beberapa user dapat \\nberinteraksi dengan database secara bersamaan, tapi tetao mempertahankan integritas \\ndata. Database Management System ini dapat berjalan menggunakan command sistem, \\nyaitu dengan menginputkan command, administrator database, yang akan memberikan30 | Proyek Sistem Terdistribusi Kelompok 4 (Copyright 2022) \\n \\n \\n5. IP yang di gunakan untuk mengakses aplikasinya menggunakan IP dari floating IP \\natau IP bayangan. \\n3.4.4. Konfigurasi Replikasi DBMS MySQL \\nSebelum mulai mengkonfigurasi Replikasi MySQL catat terlebih dahulu IP dari \\ntiap server, misal IP yang di gunakan adalah: \\n1. 192.168.40.1 sebagai master \\n2. 192,168,40.2 sebagai Node server 1 \\nSetelah itu lakukan langkah-langkah sebagai berikut: \\n\\uf0b7 Setup Setiap Server \\n1. Install Nginx \\n \\n2. Install MySQL-server \\n \\n3. Install PHP \\n \\n4. Login pada MySQL sebagai root \\n \\n5. Ganti Password root \\n \\n6. Keluar dari MySQL \\n$ sudo apt install nginx -y  \\n$ sudo apt install mysql-server -y \\n$ sudo apt-get install php php-mbstring php-zip php-fpm php-curl php-mysql \\nphp-gd php -cgi php -soap php -sqlite3 php -xml php -redis php -bcmath php -\\nimagick php-intl -y \\n$ sudo mysql \\nmysql> ALTER USER \\'root\\'@\\'localhost\\' IDENTIFIED WITH \\nmysql_native_password by \\'Qwerty123456@\\';6 | Proyek Sistem Terdistribusi Kelompok 4 (Copyright 2022) \\n \\nini memungkinkan untuk mendukung kinerja suatu aplikasi melalui distribusi data secara \\nfisik seperti pada transaksi online, ataupun pemrosesan basis data terdistribusi melalui \\nbeberapa server. \\nModel Replikasi Database, adalah sebagai berikut: \\n1. One master, one slave. \\n \\nGambar 1 One Master, One Slave \\n2. One master, many slave. \\n \\nGambar 2 One Master, Many Slave \\n3. Master/slave circular relationship. \\n \\nGambar 3 Master/Slave Circular Relationship35 | Proyek Sistem Terdistribusi Kelompok 4 (Copyright 2022) \\n \\n \\n6. Jalankan replication pluggin \\n \\nJika sudah connect maka akan muncul error \\n7. Verifikasi Server 2 / 3 sudah menjadi anggota grup replikasi \\n \\n3.4.5. Konfigurasi Aplikasi \\nUntuk memasukkan Aplikasi ke dalam sistem dapat mengikuti langkah -langkah \\nsebagai berikut: \\n1. Install Git dan juga Composer \\n \\n2. Masuk direktori /var/www \\n \\n3. Clone aplikasi dari github \\n \\n4. Update vendor \\n \\nJika ada pertanyaan yes? tekan enter \\n5. Rubah Hak akses untuk storage \\n \\nmysql> SET SQL_LOG_BIN=0; \\nmysql> SET GLOBAL read_only = OFF; \\nmysql> CREATE USER \\'replication_user\\'@\\'%\\' IDENTIFIED WITH \\nmysql_native_password BY \\'Qwerty123456@\\'; \\nmysql> GRANT REPLICATION SLAVE ON *.* TO \\'replication_user\\'@\\'%\\'; \\nmysql> FLUSH PRIVILEGES; \\nmysql> SET SQL_LOG_BIN=1; \\nmysql> CHANGE MASTER TO MASTER_USER=\\'replication_user\\', \\nMASTER_PASSWORD=\\'Qwerty123456@\\' FOR CHANNEL \\'group_replication_recovery\\'; \\nmysql> START GROUP_REPLICATION;- loose-group_replication_group_seeds (IP semua server yang terlibat replikasi) \\n- loose-group_replication_bootstrap_group=OFF (mencegah bootstrap group agar \\ntidak ada konflik) \\n- report_host (IP server yang sedang di konfigurasi) \\n7. Restart MySQL \\n \\n8. Login pada MySQL Server 1 \\n[mysqld] \\nserver_id=1  \\nbind-address=0.0.0.0 \\ngtid_mode=ON  \\nenforce_gtid_consistency=ON \\nbinlog_checksum=NONE \\n \\nplugin_load_add=\\'group_replication.so\\' \\ngroup_replication_single_primary_mode=OFF \\nloose-group_replication_group_name=\"00000000-11112222-3333-444444444444\" \\n \\nloose-group_replication_start_on_boot=ON \\nloose-group_replication_local_address=\"192.168.40.1:33061\" \\nloose-group_replication_group_seeds=\"192.168.40.1:33061,192.168.40.2:33061 \" \\nloose-group_replication_bootstrap_group=OFF \\nreport_host=192.168.40.1 \\n$ sudo service mysql restart32 | Proyek Sistem Terdistribusi Kelompok 4 (Copyright 2022) \\n \\n \\nKeterangan: \\n- server_id=1 (Server ke-1) \\n- bind-address=0.0.0.0 (Listen semua IP yang ada pada lingkungan replikasi) \\n- gtid_mode=ON (Jalankan replikasi dengan pengidentifikasi transaksi global) \\n- enforce_gtid_consistency=ON (MySQL hanya akan mengeksekusi query yang \\ndapat dicatat dengan aman pada replikasi) \\n-  plugin_load_add=’group_replication.so’ (jalankan plugin replikasi) \\n-  group_replication_single_primary_mode=OFF (semua server punya akses untuk \\nwrite dan read) \\n- loose-group_replication_group_name (nama UUID group replikasi) \\n- loose-group_replication_start_on_boot (ja lankan / tidak replikasi jika server \\nterestart) \\n- loose-group_replication_local_address (IP server yang sedang di konfigurasi) \\n- loose-group_replication_group_seeds (IP semua server yang terlibat replikasi) \\n- loose-group_replication_bootstrap_group=OFF (mencegah bootstrap group agar \\ntidak ada konflik)Adinusa. Panduan install ubuntu server di virtual box. Adinusa.id. Diakses pada 06 \\nDesember 2022 dari https://adinusa.id/content/post/blogs/panduan-install-ubuntu-server-\\ndi-virtualbox/ \\nYasirutomo. Konfigurasi replikasi database Mysql. Yasirutomo.com. Diakses pada 06 \\ndesember 2022 dari https://yasirutomo.com/konfigurasi-replikasi-database-mysql/ \\nW. Dyas, “Penerapan Repliasi Asyncrhonous pada basis data terdistribusi untuk kemanan \\ndata”, Jurnal Ilmiah Teknologi dan Informasi, vol 6, no. 1, mei 201633 | Proyek Sistem Terdistribusi Kelompok 4 (Copyright 2022) \\n \\n \\n9. Buat Replication User Server 1 \\n \\nGanti: Qwerty123456@ dengan password MySQL, syarat: harus ada huruf besar, \\nhuruf kecil, angka dan karakter. \\n10. Cek tidak ada nama group yang sama, kemudian jalankan Group replikasi \\n \\n11. Matikan group_replication_bootstrap_group untuk menghindari pembuatan \\nbanyak grup \\n \\n12. Verifikasi status grup replication_group_members \\n \\n* Contoh hasil verifikasi output mirip dengan ini: \\n \\n13. Buat database dengan nama simak \\n \\n14. Cek Database \\n$ sudo mysql -u root -p \\nmysql> SET SQL_LOG_BIN=0; \\nmysql> SET GLOBAL read_only = OFF; \\nmysql> CREATE USER \\'replication_user\\'@\\'%\\' IDENTIFIED WITH \\nmysql_native_password BY \\'Qwerty123456@\\'; \\nmysql> GRANT REPLICATION SLAVE ON *.* TO \\'replication_user\\'@\\'%\\'; \\nmysql> FLUSH PRIVILEGES; \\nmysql> SET SQL_LOG_BIN=1; \\nmysql> CHANGE MASTER TO MASTER_USER=\\'replication_user\\', \\nMASTER_PASSWORD=\\'Qwerty123456@\\' FOR CHANNEL \\'group_replication_recovery\\';'"
      ]
     },
     "execution_count": 6,
     "metadata": {},
     "output_type": "execute_result"
    }
   ],
   "source": [
    "context = \"\".join(i.page_content for i in result)\n",
    "context"
   ]
  },
  {
   "cell_type": "markdown",
   "metadata": {},
   "source": [
    "# Generate Answer"
   ]
  },
  {
   "cell_type": "code",
   "execution_count": 11,
   "metadata": {},
   "outputs": [
    {
     "name": "stdout",
     "output_type": "stream",
     "text": [
      "Query:  bagaimana caranya mereplikasi database\n",
      "Answer:  Untuk mereplikasi database MySQL dalam konteks yang diberikan, Anda dapat mengikuti langkah-langkah di bawah ini yang menjelaskan proses konfigurasi untuk mengatur replikasi database dengan menggunakan fitur Group Replication di MySQL. Ini akan memungkinkan Anda untuk mempunyai satu master dan beberapa node server (slave) yang dapat membaca dan menulis data secara konsisten. Berikut adalah prosedurnya:\n",
      "\n",
      "### Persiapan Server\n",
      "1. **Install Software yang Dibutuhkan**:\n",
      "   - Nginx, MySQL, dan PHP:\n",
      "     ```bash\n",
      "     sudo apt install nginx -y\n",
      "     sudo apt install mysql-server -y\n",
      "     sudo apt-get install php php-mbstring php-zip php-fpm php-curl php-mysql php-gd php-cgi php-soap php-sqlite3 php-xml php-redis php-bcmath php-imagick php-intl -y\n",
      "     ```\n",
      "\n",
      "2. **Konfigurasi MySQL**:\n",
      "   - Masuk ke MySQL sebagai root dan ubah password root:\n",
      "     ```bash\n",
      "     sudo mysql\n",
      "     ```\n",
      "     ```sql\n",
      "     ALTER USER 'root'@'localhost' IDENTIFIED WITH mysql_native_password BY 'Qwerty123456@';\n",
      "     ```\n",
      "\n",
      "### Konfigurasi Replikasi MySQL\n",
      "1. **Pengaturan Konfigurasi Group Replication** pada *server.conf* atau *my.cnf*:\n",
      "   - Contoh konfigurasi untuk server master (192.168.40.1):\n",
      "     ```\n",
      "     [mysqld]\n",
      "     server_id=1\n",
      "     bind-address=0.0.0.0\n",
      "     gtid_mode=ON\n",
      "     enforce_gtid_consistency=ON\n",
      "     binlog_checksum=NONE\n",
      "     plugin_load_add='group_replication.so'\n",
      "     group_replication_single_primary_mode=OFF\n",
      "     loose-group_replication_group_name=\"00000000-1111-2222-3333-444444444444\"\n",
      "     loose-group_replication_start_on_boot=ON\n",
      "     loose-group_replication_local_address=\"192.168.40.1:33061\"\n",
      "     loose-group_replication_group_seeds=\"192.168.40.1:33061,192.168.40.2:33061\"\n",
      "     loose-group_replication_bootstrap_group=OFF\n",
      "     report_host=192.168.40.1\n",
      "     ```\n",
      "   - Restart MySQL:\n",
      "     ```bash\n",
      "     sudo service mysql restart\n",
      "     ```\n",
      "\n",
      "2. **Buat Pengguna Replikasi** pada master:\n",
      "   ```sql\n",
      "   SET SQL_LOG_BIN=0;\n",
      "   SET GLOBAL read_only = OFF;\n",
      "   CREATE USER 'replication_user'@'%' IDENTIFIED WITH mysql_native_password BY 'Qwerty123456@';\n",
      "   GRANT REPLICATION SLAVE ON *.* TO 'replication_user'@'%';\n",
      "   FLUSH PRIVILEGES;\n",
      "   SET SQL_LOG_BIN=1;\n",
      "   CHANGE MASTER TO MASTER_USER='replication_user', MASTER_PASSWORD='Qwerty123456@' FOR CHANNEL 'group_replication_recovery';\n",
      "   START GROUP_REPLICATION;\n",
      "   ```\n",
      "\n",
      "3. **Verifikasi Konfigurasi Grup Replikasi**:\n",
      "   - Periksa status group replication dan pastikan server lain sudah terhubung.\n",
      "  \n",
      "### Konfigurasi Aplikasi\n",
      "1. **Mengunduh dan Mengatur Aplikasi**:\n",
      "   - Instal Git dan Composer:\n",
      "     ```bash\n",
      "     sudo apt install git composer -y\n",
      "     ```\n",
      "   - Masuk ke direktori web dan clona aplikasi dari repository GitHub:\n",
      "     ```bash\n",
      "     cd /var/www\n",
      "     git clone <repository-URL>\n",
      "     ```\n",
      "   - Update vendor packages:\n",
      "     ```bash\n",
      "     composer update\n",
      "     ```\n",
      "   - Ubah hak akses direktori `storage`:\n",
      "     ```bash\n",
      "     sudo chmod -R 755 storage\n",
      "     ```\n",
      "\n",
      "Dengan mengikuti langkah-langkah ini, Anda dapat mengatur replikasi database MySQL dimana server akan dapat bekerja dalam mode replikasi grup, menjaga konsistensi dan ketersediaan data meskipun pada server yang tersebar. Anda mungkin ingin menyesuaikan konfigurasi lebih lanjut berdasarkan kebutuhan spesifik infrastruktur dan aplikasi Anda.\n"
     ]
    }
   ],
   "source": [
    "# Mendapatkan jawaban dari GPT\n",
    "openai_answer = get_answer_openai(query, context)\n",
    "\n",
    "# Tampilkan hasil\n",
    "print(\"Query: \", query)\n",
    "print(\"Answer: \", openai_answer)"
   ]
  },
  {
   "cell_type": "code",
   "execution_count": 12,
   "metadata": {},
   "outputs": [
    {
     "name": "stdout",
     "output_type": "stream",
     "text": [
      "Query:  bagaimana caranya mereplikasi database\n",
      "Answer:  Untuk mereplikasi database, Anda dapat mengikuti langkah-langkah berikut:\n",
      "\n",
      "1. **Setup Setiap Server**: Pastikan Anda telah menginstal MySQL-server, Nginx, dan PHP pada setiap server yang akan digunakan untuk replikasi.\n",
      "2. **Konfigurasi Replikasi MySQL**: Lakukan konfigurasi replikasi MySQL pada setiap server dengan mengikuti langkah-langkah berikut:\n",
      " * Buat user replikasi dengan perintah `CREATE USER 'replication_user'@'%' IDENTIFIED WITH mysql_native_password BY 'Qwerty123456@';`\n",
      " * Berikan hak akses replikasi kepada user tersebut dengan perintah `GRANT REPLICATION SLAVE ON *.* TO 'replication_user'@'%';`\n",
      " * Flush privilese dengan perintah `FLUSH PRIVILEGES;`\n",
      "3. **Konfigurasi Group Replication**: Lakukan konfigurasi group replication pada setiap server dengan mengikuti langkah-langkah berikut:\n",
      " * Tambahkan plugin group replication dengan perintah `plugin_load_add='group_replication.so'`\n",
      " * Konfigurasi group replication dengan perintah `loose-group_replication_group_name`, `loose-group_replication_start_on_boot`, `loose-group_replication_local_address`, dan `loose-group_replication_group_seeds`\n",
      "4. **Jalankan Group Replication**: Jalankan group replication pada setiap server dengan perintah `START GROUP_REPLICATION;`\n",
      "5. **Verifikasi Status Grup Replication**: Verifikasi status grup replication dengan perintah `SHOW VARIABLES LIKE 'group_replication_members';`\n",
      "6. **Buat Database**: Buat database dengan nama yang diinginkan, misalnya `simak`\n",
      "7. **Cek Database**: Cek database untuk memastikan bahwa data telah direplikasi dengan benar.\n",
      "\n",
      "Contoh perintah yang dapat digunakan untuk mereplikasi database:\n",
      "```sql\n",
      "SET SQL_LOG_BIN=0;\n",
      "SET GLOBAL read_only = OFF;\n",
      "CREATE USER 'replication_user'@'%' IDENTIFIED WITH mysql_native_password BY 'Qwerty123456@';\n",
      "GRANT REPLICATION SLAVE ON *.* TO 'replication_user'@'%';\n",
      "FLUSH PRIVILEGES;\n",
      "SET SQL_LOG_BIN=1;\n",
      "CHANGE MASTER TO MASTER_USER='replication_user', MASTER_PASSWORD='Qwerty123456@' FOR CHANNEL 'group_replication_recovery';\n",
      "START GROUP_REPLICATION;\n",
      "```\n",
      "Pastikan Anda telah mengganti password MySQL dengan password yang aman dan sesuai dengan syarat keamanan.\n"
     ]
    }
   ],
   "source": [
    "# Mendapatkan jawaban dari LLAMA\n",
    "llama_answer = get_answer_llama(query, context)\n",
    "\n",
    "# Tampilkan hasil\n",
    "print(\"Query: \", query)\n",
    "print(\"Answer: \", llama_answer)"
   ]
  }
 ],
 "metadata": {
  "kernelspec": {
   "display_name": "venv",
   "language": "python",
   "name": "python3"
  },
  "language_info": {
   "codemirror_mode": {
    "name": "ipython",
    "version": 3
   },
   "file_extension": ".py",
   "mimetype": "text/x-python",
   "name": "python",
   "nbconvert_exporter": "python",
   "pygments_lexer": "ipython3",
   "version": "3.12.3"
  }
 },
 "nbformat": 4,
 "nbformat_minor": 2
}
